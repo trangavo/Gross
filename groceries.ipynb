{
 "cells": [
  {
   "cell_type": "code",
   "execution_count": 80,
   "metadata": {},
   "outputs": [],
   "source": [
    "import pandas as pd\n",
    "import numpy as np\n",
    "import matplotlib.pyplot as plt\n",
    "import scipy.stats as sts\n",
    "import pystan"
   ]
  },
  {
   "cell_type": "code",
   "execution_count": 81,
   "metadata": {},
   "outputs": [
    {
     "name": "stderr",
     "output_type": "stream",
     "text": [
      "/anaconda3/lib/python3.6/site-packages/pandas/core/indexing.py:189: SettingWithCopyWarning: \n",
      "A value is trying to be set on a copy of a slice from a DataFrame\n",
      "\n",
      "See the caveats in the documentation: http://pandas.pydata.org/pandas-docs/stable/indexing.html#indexing-view-versus-copy\n",
      "  self._setitem_with_indexer(indexer, value)\n",
      "/anaconda3/lib/python3.6/site-packages/ipykernel_launcher.py:3: SettingWithCopyWarning: \n",
      "A value is trying to be set on a copy of a slice from a DataFrame\n",
      "\n",
      "See the caveats in the documentation: http://pandas.pydata.org/pandas-docs/stable/indexing.html#indexing-view-versus-copy\n",
      "  This is separate from the ipykernel package so we can avoid doing imports until\n"
     ]
    },
    {
     "data": {
      "text/html": [
       "<div>\n",
       "<style scoped>\n",
       "    .dataframe tbody tr th:only-of-type {\n",
       "        vertical-align: middle;\n",
       "    }\n",
       "\n",
       "    .dataframe tbody tr th {\n",
       "        vertical-align: top;\n",
       "    }\n",
       "\n",
       "    .dataframe thead th {\n",
       "        text-align: right;\n",
       "    }\n",
       "</style>\n",
       "<table border=\"1\" class=\"dataframe\">\n",
       "  <thead>\n",
       "    <tr style=\"text-align: right;\">\n",
       "      <th></th>\n",
       "      <th>Unnamed: 4</th>\n",
       "      <th>Unnamed: 5</th>\n",
       "      <th>Apples</th>\n",
       "      <th>Unnamed: 7</th>\n",
       "      <th>Unnamed: 8</th>\n",
       "      <th>Unnamed: 9</th>\n",
       "      <th>Unnamed: 10</th>\n",
       "      <th>Unnamed: 11</th>\n",
       "      <th>Bananas</th>\n",
       "      <th>Unnamed: 13</th>\n",
       "      <th>...</th>\n",
       "      <th>Unnamed: 56</th>\n",
       "      <th>Unnamed: 57</th>\n",
       "      <th>Unnamed: 58</th>\n",
       "      <th>Unnamed: 59</th>\n",
       "      <th>Chicken breasts</th>\n",
       "      <th>Unnamed: 61</th>\n",
       "      <th>Unnamed: 62</th>\n",
       "      <th>Unnamed: 63</th>\n",
       "      <th>Unnamed: 64</th>\n",
       "      <th>Unnamed: 65</th>\n",
       "    </tr>\n",
       "  </thead>\n",
       "  <tbody>\n",
       "    <tr>\n",
       "      <th>0</th>\n",
       "      <td>ALDI</td>\n",
       "      <td>Lichtenberg</td>\n",
       "      <td>0.88</td>\n",
       "      <td>2.2</td>\n",
       "      <td>1</td>\n",
       "      <td>1.88</td>\n",
       "      <td>0.6</td>\n",
       "      <td>1.89</td>\n",
       "      <td>1</td>\n",
       "      <td>1.69</td>\n",
       "      <td>...</td>\n",
       "      <td>6</td>\n",
       "      <td>1.59</td>\n",
       "      <td>10</td>\n",
       "      <td>1.59</td>\n",
       "      <td>0.6</td>\n",
       "      <td>3.99</td>\n",
       "      <td>1</td>\n",
       "      <td>5.99</td>\n",
       "      <td>NaN</td>\n",
       "      <td>NaN</td>\n",
       "    </tr>\n",
       "    <tr>\n",
       "      <th>1</th>\n",
       "      <td>ALDI</td>\n",
       "      <td>Neukölln</td>\n",
       "      <td>1</td>\n",
       "      <td>2.99</td>\n",
       "      <td>1</td>\n",
       "      <td>1.79</td>\n",
       "      <td>0.8</td>\n",
       "      <td>1.89</td>\n",
       "      <td>1</td>\n",
       "      <td>1.15</td>\n",
       "      <td>...</td>\n",
       "      <td>10</td>\n",
       "      <td>1.19</td>\n",
       "      <td>6</td>\n",
       "      <td>1.59</td>\n",
       "      <td>0.6</td>\n",
       "      <td>3.99</td>\n",
       "      <td>1</td>\n",
       "      <td>5.99</td>\n",
       "      <td>0.35</td>\n",
       "      <td>3.99</td>\n",
       "    </tr>\n",
       "    <tr>\n",
       "      <th>2</th>\n",
       "      <td>ALDI</td>\n",
       "      <td>Neukölln</td>\n",
       "      <td>2</td>\n",
       "      <td>2.49</td>\n",
       "      <td>1</td>\n",
       "      <td>1.79</td>\n",
       "      <td>1</td>\n",
       "      <td>1.15</td>\n",
       "      <td>1</td>\n",
       "      <td>1.15</td>\n",
       "      <td>...</td>\n",
       "      <td>10</td>\n",
       "      <td>1.19</td>\n",
       "      <td>6</td>\n",
       "      <td>1.59</td>\n",
       "      <td>0.6</td>\n",
       "      <td>3.99</td>\n",
       "      <td>1</td>\n",
       "      <td>5.99</td>\n",
       "      <td>NaN</td>\n",
       "      <td>NaN</td>\n",
       "    </tr>\n",
       "    <tr>\n",
       "      <th>3</th>\n",
       "      <td>ALDI</td>\n",
       "      <td>Kreuzberg</td>\n",
       "      <td>1</td>\n",
       "      <td>2.99</td>\n",
       "      <td>1</td>\n",
       "      <td>1.79</td>\n",
       "      <td>1</td>\n",
       "      <td>2.29</td>\n",
       "      <td>1</td>\n",
       "      <td>1.15</td>\n",
       "      <td>...</td>\n",
       "      <td>10</td>\n",
       "      <td>1.19</td>\n",
       "      <td>6</td>\n",
       "      <td>1.59</td>\n",
       "      <td>0.6</td>\n",
       "      <td>3.99</td>\n",
       "      <td>0.4</td>\n",
       "      <td>2.99</td>\n",
       "      <td>0.4</td>\n",
       "      <td>2.79</td>\n",
       "    </tr>\n",
       "    <tr>\n",
       "      <th>4</th>\n",
       "      <td>ALDI</td>\n",
       "      <td>Kreuzberg</td>\n",
       "      <td>0.6</td>\n",
       "      <td>1.95</td>\n",
       "      <td>2</td>\n",
       "      <td>2.29</td>\n",
       "      <td>1</td>\n",
       "      <td>1.39</td>\n",
       "      <td>1</td>\n",
       "      <td>1.69</td>\n",
       "      <td>...</td>\n",
       "      <td>10</td>\n",
       "      <td>1.19</td>\n",
       "      <td>6</td>\n",
       "      <td>1.59</td>\n",
       "      <td>0.35</td>\n",
       "      <td>2.99</td>\n",
       "      <td>0.6</td>\n",
       "      <td>3.99</td>\n",
       "      <td>1</td>\n",
       "      <td>5.99</td>\n",
       "    </tr>\n",
       "  </tbody>\n",
       "</table>\n",
       "<p>5 rows × 62 columns</p>\n",
       "</div>"
      ],
      "text/plain": [
       "  Unnamed: 4   Unnamed: 5 Apples Unnamed: 7 Unnamed: 8 Unnamed: 9 Unnamed: 10  \\\n",
       "0       ALDI  Lichtenberg   0.88        2.2          1       1.88         0.6   \n",
       "1       ALDI     Neukölln      1       2.99          1       1.79         0.8   \n",
       "2       ALDI     Neukölln      2       2.49          1       1.79           1   \n",
       "3       ALDI    Kreuzberg      1       2.99          1       1.79           1   \n",
       "4       ALDI    Kreuzberg    0.6       1.95          2       2.29           1   \n",
       "\n",
       "  Unnamed: 11 Bananas Unnamed: 13     ...     Unnamed: 56 Unnamed: 57  \\\n",
       "0        1.89       1        1.69     ...               6        1.59   \n",
       "1        1.89       1        1.15     ...              10        1.19   \n",
       "2        1.15       1        1.15     ...              10        1.19   \n",
       "3        2.29       1        1.15     ...              10        1.19   \n",
       "4        1.39       1        1.69     ...              10        1.19   \n",
       "\n",
       "  Unnamed: 58 Unnamed: 59 Chicken breasts Unnamed: 61 Unnamed: 62 Unnamed: 63  \\\n",
       "0          10        1.59             0.6        3.99           1        5.99   \n",
       "1           6        1.59             0.6        3.99           1        5.99   \n",
       "2           6        1.59             0.6        3.99           1        5.99   \n",
       "3           6        1.59             0.6        3.99         0.4        2.99   \n",
       "4           6        1.59            0.35        2.99         0.6        3.99   \n",
       "\n",
       "  Unnamed: 64 Unnamed: 65  \n",
       "0         NaN         NaN  \n",
       "1        0.35        3.99  \n",
       "2         NaN         NaN  \n",
       "3         0.4        2.79  \n",
       "4           1        5.99  \n",
       "\n",
       "[5 rows x 62 columns]"
      ]
     },
     "execution_count": 81,
     "metadata": {},
     "output_type": "execute_result"
    }
   ],
   "source": [
    "original_data = pd.read_csv('groceries.csv').iloc[:, 4:]\n",
    "data = original_data.iloc[1:]\n",
    "data.iloc[:, 2:] = data.iloc[:, 2:].astype(float)\n",
    "data = data.reset_index(drop=True)\n",
    "data.head()\n"
   ]
  },
  {
   "cell_type": "code",
   "execution_count": 157,
   "metadata": {},
   "outputs": [
    {
     "name": "stderr",
     "output_type": "stream",
     "text": [
      "/anaconda3/lib/python3.6/site-packages/pandas/core/reshape/merge.py:543: UserWarning: merging between different levels can give an unintended result (1 levels on the left, 2 on the right)\n",
      "  warnings.warn(msg, UserWarning)\n"
     ]
    },
    {
     "name": "stdout",
     "output_type": "stream",
     "text": [
      "(79, 62)\n",
      "(79, 32)\n",
      "30 79\n",
      "30 79\n",
      "30 79\n"
     ]
    }
   ],
   "source": [
    "name = data.iloc[:, :2]\n",
    "name.columns = ['store', 'address']\n",
    "products = []\n",
    "for i in list(original_data.columns):\n",
    "    if 'Unnamed' not in i:\n",
    "        products.append(i)\n",
    "brand = range(3)\n",
    "df = pd.DataFrame(np.arange(2520).reshape((84,30)), \n",
    "            index = range(84),\n",
    "            columns=['' for i in range(30)])\n",
    "df.columns = pd.MultiIndex.from_product([products, brand])\n",
    "new = name.join(df)\n",
    "\n",
    "indexNames = new[new.store == 'Lotte Mart'].index\n",
    "indexNames2 = new[new.store == 'Safeway'].index\n",
    "new.drop(indexNames, inplace=True)\n",
    "new.drop(indexNames2, inplace=True)\n",
    "data.drop(indexNames, inplace=True)\n",
    "data.drop(indexNames2, inplace=True)\n",
    "\n",
    "for i in range(len(new)):\n",
    "    for j in range(2, 32):\n",
    "        if pd.isnull(data.iloc[i, 2*j-1]) == False:\n",
    "            new.iloc[i, j] = data.iloc[i, 2*j-1] / data.iloc[i, 2*j-2]\n",
    "        else:\n",
    "            new.iloc[i, j] = np.nan\n",
    "# new.store = pd.Categorical(new.store).codes\n",
    "# new.address = pd.Categorical(new.address).codes\n",
    "new.store, mapping_index_1 = pd.Series(new.store).factorize()\n",
    "new.address, mapping_index_2 = pd.Series(new.address).factorize()\n",
    "print(data.shape)\n",
    "print(new.shape)\n",
    "# (new.head())\n",
    "data_ = [[new.iloc[j, i] for j in range(len(new))] for i in range(2, 32)]\n",
    "store_ = [[new.iloc[j, 0] for j in range(len(new))] for i in range(2, 32)]\n",
    "loc_ = [[new.iloc[j, 1] for j in range(len(new))] for i in range(2, 32)]\n",
    "\n",
    "data_= np.array(data_)\n",
    "store_= np.array(store_)\n",
    "loc_= np.array(loc_)\n",
    "\n",
    "for i in range(len(data_)):\n",
    "    for j in range(len(data_[i])):\n",
    "        if pd.isna(data_[i, j]):\n",
    "            data_[i, j] = 0\n",
    "\n",
    "\n",
    "print(len(data_), len(data_[0]))\n",
    "print(len(store_), len(store_[0]))\n",
    "print(len(loc_), len(loc_[0]))"
   ]
  },
  {
   "cell_type": "code",
   "execution_count": 123,
   "metadata": {},
   "outputs": [
    {
     "name": "stdout",
     "output_type": "stream",
     "text": [
      "[[ 2.5         2.99        1.245      ...  5.5         2.9\n",
      "   2.55      ]\n",
      " [ 1.88        1.79        1.79       ...  3.3         2.55\n",
      "   2.9       ]\n",
      " [ 3.15        2.3625      1.15       ...  6.4         2.32\n",
      "   2.32      ]\n",
      " ...\n",
      " [ 6.65        6.65        6.65       ...  6.23       14.75\n",
      "   9.15555556]\n",
      " [ 5.99        5.99        5.99       ...  9.24        7.15\n",
      "  11.33333333]\n",
      " [ 0.         11.4         0.         ...  6.03        9.81\n",
      "  16.        ]]\n"
     ]
    }
   ],
   "source": [
    "print(data_)"
   ]
  },
  {
   "cell_type": "code",
   "execution_count": 149,
   "metadata": {},
   "outputs": [],
   "source": [
    "stan_data = {\n",
    "    'data_set': data_,\n",
    "    'store_set': store_,\n",
    "    'loc_set': loc_,\n",
    "    'num_col': 30,\n",
    "    'num_row': 79,\n",
    "    'num_pro': 10,\n",
    "    'num_store': 7,\n",
    "    'num_loc': 25,\n",
    "    'pro_1': 0,\n",
    "    'pro_2': 1000,\n",
    "    'loc_1': 1,\n",
    "    'loc_2': 0.1,\n",
    "    'store_1': 1,\n",
    "    'store_2': 0.1,\n",
    "    'sig1': 0.3,\n",
    "    'sig2': 0.2,}"
   ]
  },
  {
   "cell_type": "code",
   "execution_count": 150,
   "metadata": {},
   "outputs": [],
   "source": [
    "stan_code = '''\n",
    "\n",
    "data {\n",
    "    int<lower=0> num_col;\n",
    "    int<lower=0> num_row;\n",
    "    int<lower=0> num_pro;\n",
    "    int<lower=0> num_store;\n",
    "    int<lower=0> num_loc;\n",
    "    real<lower=0> pro_1;\n",
    "    real<lower=0> pro_2;\n",
    "    real<lower=0> loc_1;\n",
    "    real<lower=0> loc_2;\n",
    "    real<lower=0> store_1;\n",
    "    real<lower=0> store_2;\n",
    "    real<lower=0> sig1;\n",
    "    real<lower=0> sig2;\n",
    "    real<lower=0> data_set[num_col, num_row];\n",
    "    int<lower=0> store_set[num_col, num_row];\n",
    "    int<lower=0> loc_set[num_col, num_row];\n",
    "}\n",
    "\n",
    "parameters {\n",
    "    vector<lower=0>[num_pro] product;\n",
    "    vector<lower=0>[num_pro] sigma2;\n",
    "    vector<lower=0>[num_store] store;\n",
    "    vector<lower=0>[num_loc] location;\n",
    "}\n",
    "\n",
    "model {\n",
    "    product ~ uniform(pro_1, pro_2);\n",
    "    sigma2 ~ normal(sig1, sig2);\n",
    "    store ~ cauchy(store_1, store_2);\n",
    "    location ~ cauchy(loc_1, loc_2);\n",
    "    for (i in 1:num_pro) {\n",
    "        for (j in 1:num_row) {\n",
    "            if (data_set[i*3-2, j] != 0)\n",
    "            data_set[i*3-2, j] ~ normal(product[i]*store[store_set[i*3-2, j]+1]*location[loc_set[i*3-2, j]+1], sigma2[i])\n",
    "            ;\n",
    "            if (data_set[i*3-1, j] != 0) \n",
    "            data_set[i*3-1, j] ~ normal(product[i]*store[store_set[i*3-1, j]+1]*location[loc_set[i*3-1, j]+1], sigma2[i])\n",
    "            ;\n",
    "            if (data_set[i*3-2, j] != 0) \n",
    "            data_set[i*3, j] ~ normal(product[i]*store[store_set[i*3, j]+1]*location[loc_set[i*3, j]+1], sigma2[i])\n",
    "            ;\n",
    "        }\n",
    "    }\n",
    "}\n",
    "'''\n",
    "\n"
   ]
  },
  {
   "cell_type": "code",
   "execution_count": 151,
   "metadata": {},
   "outputs": [
    {
     "name": "stderr",
     "output_type": "stream",
     "text": [
      "INFO:pystan:COMPILING THE C++ CODE FOR MODEL anon_model_1ff2a833e4c3d673e6617e08b1de35e5 NOW.\n"
     ]
    }
   ],
   "source": [
    "stan_model = pystan.StanModel(model_code=stan_code)"
   ]
  },
  {
   "cell_type": "code",
   "execution_count": 152,
   "metadata": {},
   "outputs": [],
   "source": [
    "results = stan_model.sampling(data=stan_data)"
   ]
  },
  {
   "cell_type": "code",
   "execution_count": 153,
   "metadata": {},
   "outputs": [
    {
     "name": "stdout",
     "output_type": "stream",
     "text": [
      "Inference for Stan model: anon_model_1ff2a833e4c3d673e6617e08b1de35e5.\n",
      "4 chains, each with iter=2000; warmup=1000; thin=1; \n",
      "post-warmup draws per chain=1000, total post-warmup draws=4000.\n",
      "\n",
      "               mean se_mean     sd   2.5%    25%    50%    75%  97.5%  n_eff   Rhat\n",
      "product[1]     3.04    0.01   0.29   2.47   2.85   3.03   3.23    3.6    543   1.01\n",
      "product[2]     1.97  9.3e-3   0.31   1.41   1.76   1.97   2.16    2.6   1088    1.0\n",
      "product[3]     4.76    0.02   0.45   3.86   4.46   4.76   5.07   5.65    500   1.01\n",
      "product[4]     1.41  5.8e-3   0.13   1.15   1.33   1.41    1.5   1.68    515   1.01\n",
      "product[5]     1.25  5.4e-3   0.16   0.95   1.14   1.25   1.35   1.57    863   1.01\n",
      "product[6]     3.57    0.01   0.33    2.9   3.36   3.57   3.78   4.24    506   1.01\n",
      "product[7]     1.22  5.1e-3   0.12   0.98   1.13   1.22    1.3   1.47    586   1.01\n",
      "product[8]     8.31    0.03   0.72   6.88   7.84   8.31   8.79   9.73    462   1.01\n",
      "product[9]     0.31  1.3e-3   0.03   0.25   0.29   0.31   0.33   0.38    618   1.01\n",
      "product[10]    9.66    0.04   0.86   7.94    9.1   9.66  10.22  11.31    465   1.01\n",
      "sigma2[1]      1.76  9.8e-4   0.07   1.64   1.71   1.76    1.8   1.89   4532    1.0\n",
      "sigma2[2]      3.36  1.2e-3   0.09    3.2   3.31   3.36   3.42   3.54   4914    1.0\n",
      "sigma2[3]      2.74  1.2e-3   0.08   2.59   2.69   2.74    2.8   2.91   4793    1.0\n",
      "sigma2[4]      0.76  5.1e-4   0.03    0.7   0.74   0.76   0.78   0.84   4635    1.0\n",
      "sigma2[5]      1.55  9.7e-4   0.06   1.43    1.5   1.55   1.59   1.67   4148    1.0\n",
      "sigma2[6]      1.79  9.9e-4   0.07   1.65   1.74   1.79   1.83   1.93   5022    1.0\n",
      "sigma2[7]      0.93  5.8e-4   0.04   0.85    0.9   0.92   0.95   1.01   4960    1.0\n",
      "sigma2[8]      2.39  1.2e-3   0.08   2.24   2.34   2.39   2.45   2.56   4990    1.0\n",
      "sigma2[9]      0.25  1.8e-4   0.01   0.22   0.24   0.25   0.25   0.27   4541    1.0\n",
      "sigma2[10]      3.5  1.3e-3   0.09   3.32   3.43    3.5   3.56   3.68   4948    1.0\n",
      "store[1]        0.7  2.9e-3   0.07   0.58   0.66    0.7   0.74   0.86    554   1.01\n",
      "store[2]       1.05  4.0e-3   0.09   0.89   0.99   1.04   1.09   1.25    516   1.01\n",
      "store[3]       0.68  2.8e-3   0.07   0.56   0.63   0.67   0.71   0.82    549   1.01\n",
      "store[4]       0.95  3.5e-3   0.08    0.8    0.9   0.95   0.99   1.13    535   1.01\n",
      "store[5]       1.21  5.3e-3   0.14   0.99   1.11   1.19   1.29   1.52    664   1.01\n",
      "store[6]       0.83  3.9e-3   0.09   0.66   0.77   0.82   0.88   1.01    496   1.01\n",
      "store[7]       1.03  3.9e-3    0.1   0.88   0.97   1.03   1.08   1.26    580   1.01\n",
      "location[1]    1.07  1.4e-3   0.06   0.95   1.02   1.06   1.11    1.2   2164    1.0\n",
      "location[2]    1.04  1.4e-3   0.05   0.94    1.0   1.04   1.07   1.15   1436    1.0\n",
      "location[3]    0.95  1.3e-3   0.05   0.85   0.92   0.95   0.98   1.05   1518    1.0\n",
      "location[4]    0.93  1.3e-3   0.06   0.81   0.89   0.94   0.98   1.05   2141    1.0\n",
      "location[5]     0.9  1.4e-3   0.05    0.8   0.87   0.91   0.94    1.0   1426    1.0\n",
      "location[6]     1.0  1.3e-3   0.05   0.91   0.97    1.0   1.03    1.1   1347    1.0\n",
      "location[7]    0.93  2.1e-3   0.11   0.67   0.87   0.95    1.0   1.12   2691    1.0\n",
      "location[8]    0.98  1.1e-3   0.05   0.87   0.94   0.98   1.02   1.09   2422    1.0\n",
      "location[9]     1.1  1.7e-3   0.07   0.98   1.05    1.1   1.14   1.25   1689    1.0\n",
      "location[10]   1.05  1.3e-3   0.07   0.93    1.0   1.05   1.09    1.2   2674    1.0\n",
      "location[11]   1.03  1.5e-3   0.09   0.87   0.98   1.03   1.08   1.22   3235    1.0\n",
      "location[12]   0.46  1.6e-3    0.1   0.27   0.39   0.45   0.52   0.66   4011    1.0\n",
      "location[13]   0.92  1.6e-3   0.09   0.74   0.86   0.92   0.97   1.07   2992    1.0\n",
      "location[14]   1.11  2.1e-3   0.11   0.93   1.03    1.1   1.18   1.37   2994    1.0\n",
      "location[15]   0.94  1.6e-3   0.09   0.73   0.88   0.95    1.0   1.12   3397    1.0\n",
      "location[16]   1.04  1.4e-3   0.08   0.89   0.99   1.03   1.08   1.22   3221    1.0\n",
      "location[17]   1.01  1.3e-3   0.09   0.83   0.95   1.01   1.06   1.19   4356    1.0\n",
      "location[18]   1.03  1.5e-3   0.09   0.87   0.97   1.02   1.08   1.23   3587    1.0\n",
      "location[19]   0.87  2.1e-3   0.11   0.64    0.8   0.88   0.95   1.06   2924    1.0\n",
      "location[20]   1.09  1.9e-3   0.11   0.92   1.02   1.08   1.15   1.33   3098    1.0\n",
      "location[21]   0.99  1.5e-3   0.09   0.81   0.94   0.99   1.04   1.17   3415    1.0\n",
      "location[22]   0.98  1.1e-3   0.07   0.85   0.94   0.98   1.02   1.11   3411    1.0\n",
      "location[23]   0.99  1.2e-3   0.08   0.84   0.94   0.99   1.04   1.14   3772    1.0\n",
      "location[24]   1.05  1.4e-3   0.09    0.9   0.99   1.04    1.1   1.24   3550    1.0\n",
      "location[25]   1.03  1.3e-3   0.08   0.87   0.98   1.02   1.07   1.21   3899    1.0\n",
      "lp__          -3083    0.14   5.47  -3094  -3086  -3083  -3079  -3073   1549    1.0\n",
      "\n",
      "Samples were drawn using NUTS at Fri Nov  8 21:27:13 2019.\n",
      "For each parameter, n_eff is a crude measure of effective sample size,\n",
      "and Rhat is the potential scale reduction factor on split chains (at \n",
      "convergence, Rhat=1).\n"
     ]
    }
   ],
   "source": [
    "print(results)"
   ]
  },
  {
   "cell_type": "code",
   "execution_count": 164,
   "metadata": {},
   "outputs": [],
   "source": [
    "samples = results.extract()\n",
    "berlin = [[samples['location'][:, i]] for i in range(9)]"
   ]
  },
  {
   "cell_type": "code",
   "execution_count": 165,
   "metadata": {},
   "outputs": [
    {
     "name": "stdout",
     "output_type": "stream",
     "text": [
      "[[array([1.07883994, 1.13535275, 1.10662657, ..., 1.00522841, 0.99156376,\n",
      "       1.14343538])], [array([1.04609518, 1.11392091, 1.10586735, ..., 0.9747775 , 1.04347639,\n",
      "       1.08784328])], [array([0.95868812, 1.00133564, 1.02007397, ..., 0.9295491 , 0.96950846,\n",
      "       0.92111223])], [array([0.92741196, 1.00435781, 1.03659759, ..., 0.73615865, 0.97632532,\n",
      "       0.96866817])], [array([0.88743303, 0.93883671, 0.91372254, ..., 0.85335156, 0.89049531,\n",
      "       0.8843024 ])], [array([0.98134051, 1.05498775, 1.06451741, ..., 0.96341362, 0.96677996,\n",
      "       1.01400077])], [array([0.98240896, 1.0875769 , 0.93441096, ..., 0.9404131 , 0.98070316,\n",
      "       0.94525416])], [array([0.92740211, 0.95077816, 1.05554721, ..., 0.85496512, 0.9548381 ,\n",
      "       0.95072662])], [array([1.04667841, 1.12724546, 1.10225763, ..., 1.15208066, 1.08868842,\n",
      "       1.07893755])]]\n"
     ]
    }
   ],
   "source": [
    "print(berlin)"
   ]
  },
  {
   "cell_type": "code",
   "execution_count": 158,
   "metadata": {},
   "outputs": [
    {
     "name": "stdout",
     "output_type": "stream",
     "text": [
      "Index(['ALDI', 'EDEKA', 'Lidl', 'REWE', 'Sainsbury's', 'Tesco Express',\n",
      "       'Waitrose & Partners'],\n",
      "      dtype='object')\n",
      "Index(['Lichtenberg', 'Neukölln', 'Kreuzberg', 'Alt-Treptow', 'Friedrichshain',\n",
      "       'Mitte', 'Tempelhof', 'Schöneberg', 'Prenzlauer Berg', 'The Angel',\n",
      "       'Fitzrovia', 'Southwark', 'Mayfair', 'Hoxton', 'Cheap', 'Farringdon',\n",
      "       'Islington', 'Briton Ferry', 'Cazenove', 'Shoreditch', 'Temple',\n",
      "       'Barbican', 'Marylebone', 'Kings Cross', 'Crouch End'],\n",
      "      dtype='object')\n"
     ]
    }
   ],
   "source": [
    "print(mapping_index_1)\n",
    "print(mapping_index_2)"
   ]
  },
  {
   "cell_type": "code",
   "execution_count": 166,
   "metadata": {},
   "outputs": [],
   "source": [
    "rental_berlin = {'Lichtenberg': 9.64, 'Neukölln': 10.09, 'Kreuzberg': 12.99, 'Alt-Treptow': 9.61, 'Friedrichshain': 12.99,\n",
    "       'Mitte': 12.5, 'Tempelhof': 10.26, 'Schöneberg': 10.26, 'Prenzlauer Berg': 14.5}\n",
    "\n",
    "multi_berlin = {}\n",
    "for i in range(9):\n",
    "    multi_berlin[mapping_index_2[i]] = berlin[i]"
   ]
  },
  {
   "cell_type": "code",
   "execution_count": 167,
   "metadata": {},
   "outputs": [
    {
     "name": "stdout",
     "output_type": "stream",
     "text": [
      "{'Lichtenberg': [array([1.07883994, 1.13535275, 1.10662657, ..., 1.00522841, 0.99156376,\n",
      "       1.14343538])], 'Neukölln': [array([1.04609518, 1.11392091, 1.10586735, ..., 0.9747775 , 1.04347639,\n",
      "       1.08784328])], 'Kreuzberg': [array([0.95868812, 1.00133564, 1.02007397, ..., 0.9295491 , 0.96950846,\n",
      "       0.92111223])], 'Alt-Treptow': [array([0.92741196, 1.00435781, 1.03659759, ..., 0.73615865, 0.97632532,\n",
      "       0.96866817])], 'Friedrichshain': [array([0.88743303, 0.93883671, 0.91372254, ..., 0.85335156, 0.89049531,\n",
      "       0.8843024 ])], 'Mitte': [array([0.98134051, 1.05498775, 1.06451741, ..., 0.96341362, 0.96677996,\n",
      "       1.01400077])], 'Tempelhof': [array([0.98240896, 1.0875769 , 0.93441096, ..., 0.9404131 , 0.98070316,\n",
      "       0.94525416])], 'Schöneberg': [array([0.92740211, 0.95077816, 1.05554721, ..., 0.85496512, 0.9548381 ,\n",
      "       0.95072662])], 'Prenzlauer Berg': [array([1.04667841, 1.12724546, 1.10225763, ..., 1.15208066, 1.08868842,\n",
      "       1.07893755])]}\n"
     ]
    }
   ],
   "source": [
    "print(multi_berlin)"
   ]
  },
  {
   "cell_type": "code",
   "execution_count": 175,
   "metadata": {},
   "outputs": [],
   "source": [
    "berlin_sorted = sorted(rental_berlin, key=rental_berlin.get)"
   ]
  },
  {
   "cell_type": "code",
   "execution_count": 189,
   "metadata": {},
   "outputs": [],
   "source": [
    "rental_berlin_2 = {}\n",
    "for i in range(0, 9):\n",
    "    rental_berlin_2[berlin_sorted[i]] = i+1\n",
    "\n",
    "rental_berlin_3 = {}\n",
    "for i in range(0, 9):\n",
    "    rental_berlin_3[berlin_sorted[i]] = rental_berlin[berlin_sorted[i]]"
   ]
  },
  {
   "cell_type": "code",
   "execution_count": 176,
   "metadata": {},
   "outputs": [
    {
     "data": {
      "text/plain": [
       "['Alt-Treptow',\n",
       " 'Lichtenberg',\n",
       " 'Neukölln',\n",
       " 'Tempelhof',\n",
       " 'Schöneberg',\n",
       " 'Mitte',\n",
       " 'Kreuzberg',\n",
       " 'Friedrichshain',\n",
       " 'Prenzlauer Berg']"
      ]
     },
     "execution_count": 176,
     "metadata": {},
     "output_type": "execute_result"
    }
   ],
   "source": []
  },
  {
   "cell_type": "code",
   "execution_count": 184,
   "metadata": {},
   "outputs": [
    {
     "data": {
      "text/plain": [
       "{'Alt-Treptow': 1,\n",
       " 'Lichtenberg': 2,\n",
       " 'Neukölln': 3,\n",
       " 'Tempelhof': 4,\n",
       " 'Schöneberg': 5,\n",
       " 'Mitte': 6,\n",
       " 'Kreuzberg': 7,\n",
       " 'Friedrichshain': 8,\n",
       " 'Prenzlauer Berg': 9}"
      ]
     },
     "execution_count": 184,
     "metadata": {},
     "output_type": "execute_result"
    }
   ],
   "source": [
    "rental_berlin_2"
   ]
  },
  {
   "cell_type": "code",
   "execution_count": 187,
   "metadata": {},
   "outputs": [
    {
     "data": {
      "image/png": "[encoded data removed]",
      "text/plain": [
       "<matplotlib.figure.Figure at 0x1a1a3cd9e8>"
      ]
     },
     "metadata": {},
     "output_type": "display_data"
    }
   ],
   "source": [
    "for each in berlin_sorted:\n",
    "    plt.scatter([rental_berlin_2[each] for i in range(4000)], multi_berlin[each])"
   ]
  },
  {
   "cell_type": "code",
   "execution_count": 188,
   "metadata": {},
   "outputs": [
    {
     "data": {
      "image/png": "[encoded data removed]",
      "text/plain": [
       "<matplotlib.figure.Figure at 0x1a1a3a4d68>"
      ]
     },
     "metadata": {},
     "output_type": "display_data"
    }
   ],
   "source": [
    "for each in berlin_sorted:\n",
    "    plt.scatter(rental_berlin_2[each], np.mean(multi_berlin[each]))"
   ]
  },
  {
   "cell_type": "code",
   "execution_count": 190,
   "metadata": {},
   "outputs": [
    {
     "data": {
      "text/plain": [
       "<matplotlib.collections.PathCollection at 0x1a1a0ea320>"
      ]
     },
     "execution_count": 190,
     "metadata": {},
     "output_type": "execute_result"
    },
    {
     "data": {
      "image/png": "[encoded data removed]",
      "text/plain": [
       "<matplotlib.figure.Figure at 0x1a1a3ab3c8>"
      ]
     },
     "metadata": {},
     "output_type": "display_data"
    }
   ],
   "source": [
    "plt.scatter([rental_berlin_3[each] for each in berlin_sorted], [np.mean(multi_berlin[each]) for each in berlin_sorted])"
   ]
  },
  {
   "cell_type": "code",
   "execution_count": null,
   "metadata": {},
   "outputs": [],
   "source": []
  }
 ],
 "metadata": {
  "kernelspec": {
   "display_name": "Python 3",
   "language": "python",
   "name": "python3"
  },
  "language_info": {
   "codemirror_mode": {
    "name": "ipython",
    "version": 3
   },
   "file_extension": ".py",
   "mimetype": "text/x-python",
   "name": "python",
   "nbconvert_exporter": "python",
   "pygments_lexer": "ipython3",
   "version": "3.6.8"
  }
 },
 "nbformat": 4,
 "nbformat_minor": 2
}
